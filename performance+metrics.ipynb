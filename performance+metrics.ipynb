{
  "nbformat": 4,
  "nbformat_minor": 0,
  "metadata": {
    "colab": {
      "provenance": [],
      "authorship_tag": "ABX9TyO/2bpafFZZVqdC4NKJTaMX",
      "include_colab_link": true
    },
    "kernelspec": {
      "name": "python3",
      "display_name": "Python 3"
    },
    "language_info": {
      "name": "python"
    }
  },
  "cells": [
    {
      "cell_type": "markdown",
      "metadata": {
        "id": "view-in-github",
        "colab_type": "text"
      },
      "source": [
        "<a href=\"https://colab.research.google.com/github/scobb052/predictive-modeling-portfolio/blob/main/performance%2Bmetrics.ipynb\" target=\"_parent\"><img src=\"https://colab.research.google.com/assets/colab-badge.svg\" alt=\"Open In Colab\"/></a>"
      ]
    },
    {
      "cell_type": "code",
      "execution_count": 1,
      "metadata": {
        "colab": {
          "base_uri": "https://localhost:8080/"
        },
        "id": "pV5FvQECQLyo",
        "outputId": "6d81b815-2409-4824-fc8a-bd9afdd2d8be"
      },
      "outputs": [
        {
          "output_type": "stream",
          "name": "stdout",
          "text": [
            "Requirement already satisfied: scikit-learn in /usr/local/lib/python3.11/dist-packages (1.6.1)\n",
            "Collecting aif360\n",
            "  Downloading aif360-0.6.1-py3-none-any.whl.metadata (5.0 kB)\n",
            "Requirement already satisfied: pandas in /usr/local/lib/python3.11/dist-packages (2.2.2)\n",
            "Requirement already satisfied: numpy in /usr/local/lib/python3.11/dist-packages (2.0.2)\n",
            "Requirement already satisfied: scipy>=1.6.0 in /usr/local/lib/python3.11/dist-packages (from scikit-learn) (1.14.1)\n",
            "Requirement already satisfied: joblib>=1.2.0 in /usr/local/lib/python3.11/dist-packages (from scikit-learn) (1.4.2)\n",
            "Requirement already satisfied: threadpoolctl>=3.1.0 in /usr/local/lib/python3.11/dist-packages (from scikit-learn) (3.6.0)\n",
            "Requirement already satisfied: matplotlib in /usr/local/lib/python3.11/dist-packages (from aif360) (3.10.0)\n",
            "Requirement already satisfied: python-dateutil>=2.8.2 in /usr/local/lib/python3.11/dist-packages (from pandas) (2.8.2)\n",
            "Requirement already satisfied: pytz>=2020.1 in /usr/local/lib/python3.11/dist-packages (from pandas) (2025.1)\n",
            "Requirement already satisfied: tzdata>=2022.7 in /usr/local/lib/python3.11/dist-packages (from pandas) (2025.1)\n",
            "Requirement already satisfied: six>=1.5 in /usr/local/lib/python3.11/dist-packages (from python-dateutil>=2.8.2->pandas) (1.17.0)\n",
            "Requirement already satisfied: contourpy>=1.0.1 in /usr/local/lib/python3.11/dist-packages (from matplotlib->aif360) (1.3.1)\n",
            "Requirement already satisfied: cycler>=0.10 in /usr/local/lib/python3.11/dist-packages (from matplotlib->aif360) (0.12.1)\n",
            "Requirement already satisfied: fonttools>=4.22.0 in /usr/local/lib/python3.11/dist-packages (from matplotlib->aif360) (4.56.0)\n",
            "Requirement already satisfied: kiwisolver>=1.3.1 in /usr/local/lib/python3.11/dist-packages (from matplotlib->aif360) (1.4.8)\n",
            "Requirement already satisfied: packaging>=20.0 in /usr/local/lib/python3.11/dist-packages (from matplotlib->aif360) (24.2)\n",
            "Requirement already satisfied: pillow>=8 in /usr/local/lib/python3.11/dist-packages (from matplotlib->aif360) (11.1.0)\n",
            "Requirement already satisfied: pyparsing>=2.3.1 in /usr/local/lib/python3.11/dist-packages (from matplotlib->aif360) (3.2.1)\n",
            "Downloading aif360-0.6.1-py3-none-any.whl (259 kB)\n",
            "\u001b[2K   \u001b[90m━━━━━━━━━━━━━━━━━━━━━━━━━━━━━━━━━━━━━━━━\u001b[0m \u001b[32m259.7/259.7 kB\u001b[0m \u001b[31m3.1 MB/s\u001b[0m eta \u001b[36m0:00:00\u001b[0m\n",
            "\u001b[?25hInstalling collected packages: aif360\n",
            "Successfully installed aif360-0.6.1\n"
          ]
        }
      ],
      "source": [
        "pip install scikit-learn aif360 pandas numpy"
      ]
    },
    {
      "cell_type": "code",
      "source": [
        "import numpy as np\n",
        "import pandas as pd\n",
        "from sklearn.metrics import confusion_matrix\n",
        "from aif360.metrics import ClassificationMetric\n",
        "from aif360.datasets import BinaryLabelDataset"
      ],
      "metadata": {
        "colab": {
          "base_uri": "https://localhost:8080/"
        },
        "id": "-fkDGd3NQbEr",
        "outputId": "daa691d0-607f-4c38-ccf2-bec084ad5324"
      },
      "execution_count": 2,
      "outputs": [
        {
          "output_type": "stream",
          "name": "stderr",
          "text": [
            "WARNING:root:No module named 'fairlearn': ExponentiatedGradientReduction will be unavailable. To install, run:\n",
            "pip install 'aif360[Reductions]'\n",
            "WARNING:root:No module named 'fairlearn': GridSearchReduction will be unavailable. To install, run:\n",
            "pip install 'aif360[Reductions]'\n",
            "WARNING:root:No module named 'inFairness': SenSeI and SenSR will be unavailable. To install, run:\n",
            "pip install 'aif360[inFairness]'\n",
            "WARNING:root:No module named 'fairlearn': GridSearchReduction will be unavailable. To install, run:\n",
            "pip install 'aif360[Reductions]'\n"
          ]
        }
      ]
    },
    {
      "cell_type": "code",
      "source": [
        "# Create synthetic data (100 patients)\n",
        "np.random.seed(42)\n",
        "data = pd.DataFrame({\n",
        "    'age': np.random.randint(30, 80, 100),\n",
        "    'sex': np.random.choice(['male', 'female'], 100),  # Sensitive attribute\n",
        "    'predicted_high_risk': np.random.choice([0, 1], 100),  # Model output\n",
        "    'actual_high_risk': np.random.choice([0, 1], 100)  # True risk\n",
        "})\n",
        "\n",
        "# Convert sex to binary: male=1, female=0\n",
        "data['sex_binary'] = data['sex'].apply(lambda x: 1 if x == 'male' else 0)\n",
        "\n",
        "print(data.head())"
      ],
      "metadata": {
        "colab": {
          "base_uri": "https://localhost:8080/"
        },
        "id": "E-A0Vcp8Qouh",
        "outputId": "f21d7e4a-f83d-4bd3-ff3e-b7bd3149ed33"
      },
      "execution_count": 3,
      "outputs": [
        {
          "output_type": "stream",
          "name": "stdout",
          "text": [
            "   age     sex  predicted_high_risk  actual_high_risk  sex_binary\n",
            "0   68    male                    1                 1           1\n",
            "1   58  female                    1                 0           0\n",
            "2   44    male                    0                 1           1\n",
            "3   72  female                    1                 0           0\n",
            "4   37  female                    0                 1           0\n"
          ]
        }
      ]
    },
    {
      "cell_type": "code",
      "source": [
        "# Compute positive prediction rates for each group\n",
        "male_rate = data[data['sex_binary'] == 1]['predicted_high_risk'].mean()\n",
        "female_rate = data[data['sex_binary'] == 0]['predicted_high_risk'].mean()\n",
        "\n",
        "print(f\"Male Positive Prediction Rate: {male_rate:.2f}\")\n",
        "print(f\"Female Positive Prediction Rate: {female_rate:.2f}\")\n",
        "\n",
        "# Demographic Parity Difference\n",
        "demographic_parity_diff = abs(male_rate - female_rate)\n",
        "print(f\"Demographic Parity Difference: {demographic_parity_diff:.2f}\")\n"
      ],
      "metadata": {
        "colab": {
          "base_uri": "https://localhost:8080/"
        },
        "id": "n0DlNzs0Q1pP",
        "outputId": "00952409-ee5c-42af-832e-ab4f64d825cd"
      },
      "execution_count": 4,
      "outputs": [
        {
          "output_type": "stream",
          "name": "stdout",
          "text": [
            "Male Positive Prediction Rate: 0.49\n",
            "Female Positive Prediction Rate: 0.51\n",
            "Demographic Parity Difference: 0.02\n"
          ]
        }
      ]
    },
    {
      "cell_type": "code",
      "source": [
        "# Compute confusion matrices\n",
        "cm_male = confusion_matrix(data[data['sex_binary'] == 1]['actual_high_risk'],\n",
        "                           data[data['sex_binary'] == 1]['predicted_high_risk'])\n",
        "\n",
        "cm_female = confusion_matrix(data[data['sex_binary'] == 0]['actual_high_risk'],\n",
        "                             data[data['sex_binary'] == 0]['predicted_high_risk'])\n",
        "\n",
        "# Extract TP, FP, FN, TN\n",
        "TPR_male = cm_male[1, 1] / (cm_male[1, 1] + cm_male[1, 0])  # Sensitivity\n",
        "FPR_male = cm_male[0, 1] / (cm_male[0, 1] + cm_male[0, 0])  # False Alarm\n",
        "\n",
        "TPR_female = cm_female[1, 1] / (cm_female[1, 1] + cm_female[1, 0])\n",
        "FPR_female = cm_female[0, 1] / (cm_female[0, 1] + cm_female[0, 0])\n",
        "\n",
        "# Print results\n",
        "print(f\"Male TPR: {TPR_male:.2f}, Male FPR: {FPR_male:.2f}\")\n",
        "print(f\"Female TPR: {TPR_female:.2f}, Female FPR: {FPR_female:.2f}\")\n",
        "\n",
        "# Equalized Odds Difference\n",
        "TPR_diff = abs(TPR_male - TPR_female)\n",
        "FPR_diff = abs(FPR_male - FPR_female)\n",
        "\n",
        "print(f\"Equalized Odds Difference (TPR): {TPR_diff:.2f}\")\n",
        "print(f\"Equalized Odds Difference (FPR): {FPR_diff:.2f}\")\n"
      ],
      "metadata": {
        "colab": {
          "base_uri": "https://localhost:8080/"
        },
        "id": "pIY4CbukRMIw",
        "outputId": "19af0321-cad0-4080-f701-07885c52bd5c"
      },
      "execution_count": 5,
      "outputs": [
        {
          "output_type": "stream",
          "name": "stdout",
          "text": [
            "Male TPR: 0.43, Male FPR: 0.56\n",
            "Female TPR: 0.62, Female FPR: 0.35\n",
            "Equalized Odds Difference (TPR): 0.18\n",
            "Equalized Odds Difference (FPR): 0.20\n"
          ]
        }
      ]
    },
    {
      "cell_type": "code",
      "source": [
        "import matplotlib.pyplot as plt\n",
        "from sklearn.metrics import roc_curve\n",
        "\n",
        "# Generate synthetic probabilities (simulating model output)\n",
        "np.random.seed(42)\n",
        "data['predicted_proba'] = np.random.uniform(0, 1, 100)  # Simulating predicted probabilities\n",
        "\n",
        "# Compute ROC curves separately for males and females\n",
        "male_data = data[data['sex_binary'] == 1]\n",
        "female_data = data[data['sex_binary'] == 0]\n",
        "\n",
        "fpr_male, tpr_male, thresholds_male = roc_curve(male_data['actual_high_risk'], male_data['predicted_proba'])\n",
        "fpr_female, tpr_female, thresholds_female = roc_curve(female_data['actual_high_risk'], female_data['predicted_proba'])\n"
      ],
      "metadata": {
        "id": "hJk0HIJ9SK0q"
      },
      "execution_count": 6,
      "outputs": []
    },
    {
      "cell_type": "code",
      "source": [
        "thresholds_female\n"
      ],
      "metadata": {
        "colab": {
          "base_uri": "https://localhost:8080/"
        },
        "id": "lmIRhCXNYpfi",
        "outputId": "ab970d89-bcda-4703-cb74-259c048bbd1a"
      },
      "execution_count": 10,
      "outputs": [
        {
          "output_type": "execute_result",
          "data": {
            "text/plain": [
              "array([       inf, 0.98688694, 0.96958463, 0.96563203, 0.95071431,\n",
              "       0.82873751, 0.80839735, 0.80219698, 0.78517596, 0.76078505,\n",
              "       0.5612772 , 0.52273283, 0.52006802, 0.42754102, 0.36636184,\n",
              "       0.32518332, 0.31098232, 0.30461377, 0.30424224, 0.15601864,\n",
              "       0.15599452, 0.07455064, 0.07404465, 0.02541913, 0.02058449])"
            ]
          },
          "metadata": {},
          "execution_count": 10
        }
      ]
    },
    {
      "cell_type": "code",
      "source": [
        "\n",
        "# Plot ROC curves\n",
        "plt.figure(figsize=(8, 6))\n",
        "plt.plot(fpr_male, tpr_male, label=\"Male ROC Curve\")\n",
        "plt.plot(fpr_female, tpr_female, label=\"Female ROC Curve\", linestyle=\"dashed\")\n",
        "plt.xlabel(\"False Positive Rate (FPR)\")\n",
        "plt.ylabel(\"True Positive Rate (TPR)\")\n",
        "plt.title(\"ROC Curve by Demographic Group\")\n",
        "plt.legend()\n",
        "plt.show()\n"
      ],
      "metadata": {
        "colab": {
          "base_uri": "https://localhost:8080/",
          "height": 564
        },
        "id": "7QvbtavoYkfm",
        "outputId": "168957f5-cf3b-4b13-f335-69799ce85cf3"
      },
      "execution_count": 11,
      "outputs": [
        {
          "output_type": "display_data",
          "data": {
            "text/plain": [
              "<Figure size 800x600 with 1 Axes>"
            ],
            "image/png": "[encoded data removed]"
          },
          "metadata": {}
        }
      ]
    },
    {
      "cell_type": "code",
      "source": [
        "# Find thresholds that give equalized odds\n",
        "def find_threshold_for_equal_tpr(fpr, tpr, thresholds, target_tpr):\n",
        "    \"\"\"Finds the threshold that gets closest to the target TPR.\"\"\"\n",
        "    idx = np.argmin(np.abs(tpr - target_tpr))\n",
        "    return thresholds[idx]\n",
        "\n",
        "# Set target TPR (e.g., making both groups have the same sensitivity)\n",
        "target_tpr = 0.75\n",
        "\n",
        "male_threshold = find_threshold_for_equal_tpr(fpr_male, tpr_male, thresholds_male, target_tpr)\n",
        "female_threshold = find_threshold_for_equal_tpr(fpr_female, tpr_female, thresholds_female, target_tpr)\n",
        "\n",
        "print(f\"Adjusted Male Threshold: {male_threshold:.2f}\")\n",
        "print(f\"Adjusted Female Threshold: {female_threshold:.2f}\")\n"
      ],
      "metadata": {
        "colab": {
          "base_uri": "https://localhost:8080/"
        },
        "id": "jY_G1qKeaXQB",
        "outputId": "9e4b2fa2-872c-48eb-cc85-4a6b2f8c81c5"
      },
      "execution_count": 12,
      "outputs": [
        {
          "output_type": "stream",
          "name": "stdout",
          "text": [
            "Adjusted Male Threshold: 0.27\n",
            "Adjusted Female Threshold: 0.16\n"
          ]
        }
      ]
    },
    {
      "cell_type": "code",
      "source": [
        "# Apply new thresholds\n",
        "data['adjusted_predicted'] = data.apply(\n",
        "    lambda row: 1 if row['predicted_proba'] >= male_threshold and row['sex_binary'] == 1 else\n",
        "                (1 if row['predicted_proba'] >= female_threshold and row['sex_binary'] == 0 else 0),\n",
        "    axis=1\n",
        ")\n",
        "\n",
        "# Compute new TPR & FPR\n",
        "cm_male_new = confusion_matrix(data[data['sex_binary'] == 1]['actual_high_risk'],\n",
        "                               data[data['sex_binary'] == 1]['adjusted_predicted'])\n",
        "\n",
        "cm_female_new = confusion_matrix(data[data['sex_binary'] == 0]['actual_high_risk'],\n",
        "                                 data[data['sex_binary'] == 0]['adjusted_predicted'])\n",
        "\n",
        "TPR_male_new = cm_male_new[1, 1] / (cm_male_new[1, 1] + cm_male_new[1, 0])\n",
        "FPR_male_new = cm_male_new[0, 1] / (cm_male_new[0, 1] + cm_male_new[0, 0])\n",
        "\n",
        "TPR_female_new = cm_female_new[1, 1] / (cm_female_new[1, 1] + cm_female_new[1, 0])\n",
        "FPR_female_new = cm_female_new[0, 1] / (cm_female_new[0, 1] + cm_female_new[0, 0])\n",
        "\n",
        "print(f\"Adjusted Male TPR: {TPR_male_new:.2f}, Adjusted Male FPR: {FPR_male_new:.2f}\")\n",
        "print(f\"Adjusted Female TPR: {TPR_female_new:.2f}, Adjusted Female FPR: {FPR_female_new:.2f}\")\n",
        "\n",
        "TPR_diff_new = abs(TPR_male_new - TPR_female_new)\n",
        "FPR_diff_new = abs(FPR_male_new - FPR_female_new)\n",
        "\n",
        "print(f\"New Equalized Odds Difference (TPR): {TPR_diff_new:.2f}\")\n",
        "print(f\"New Equalized Odds Difference (FPR): {FPR_diff_new:.2f}\")\n"
      ],
      "metadata": {
        "colab": {
          "base_uri": "https://localhost:8080/"
        },
        "id": "TJ17rMcua4Gm",
        "outputId": "13bdb4a8-ef28-431b-f1d5-d3635ff173dd"
      },
      "execution_count": 13,
      "outputs": [
        {
          "output_type": "stream",
          "name": "stdout",
          "text": [
            "Adjusted Male TPR: 0.70, Adjusted Male FPR: 0.67\n",
            "Adjusted Female TPR: 0.77, Adjusted Female FPR: 0.82\n",
            "New Equalized Odds Difference (TPR): 0.07\n",
            "New Equalized Odds Difference (FPR): 0.16\n"
          ]
        }
      ]
    }
  ]
}